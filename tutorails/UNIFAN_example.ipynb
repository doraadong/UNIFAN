{
 "cells": [
  {
   "cell_type": "markdown",
   "id": "302ac667",
   "metadata": {},
   "source": [
    "# Get started\n",
    "\n",
    "In this tutorial, we will run UNIFAN on the example data: Limb_Muscle in the Tabula Muris data. Please refer to **Download and Preprocess the Example Data** in the tutorials section for more details on how to prepare the example input data. \n",
    "\n",
    "**Table of Content**\n",
    "\n",
    "1. [Set up parameters, training enviroments & outputs paths](#1)\n",
    "2. [Load data & prepare get gene set matrix](#2) \n",
    "3. [Train gene set activity scores (r) model](#3)\n",
    "4. [Pretrain AnnoCluster & initialize clustering](#4)\n",
    "5. [Pretrain annotator (classification)](#5)\n",
    "6. [Clustering using AnnoCluster together with annotator](#6)  "
   ]
  },
  {
   "cell_type": "code",
   "execution_count": 1,
   "id": "bd4f17b0",
   "metadata": {},
   "outputs": [],
   "source": [
    "import os\n",
    "import sys\n",
    "import gc\n",
    "import itertools\n",
    "\n",
    "import torch\n",
    "import scanpy as sc\n",
    "import pandas as pd\n",
    "import seaborn as sns\n",
    "import numpy as np\n",
    "from matplotlib import pyplot as plt\n",
    "import umap\n",
    "from tqdm import tqdm\n",
    "from sklearn.metrics.cluster import adjusted_rand_score, adjusted_mutual_info_score\n",
    "from sklearn.model_selection import train_test_split\n",
    "\n",
    "from context import unifan \n",
    "from unifan.datasets import AnnDataset, NumpyDataset\n",
    "from unifan.annocluster import AnnoCluster\n",
    "from unifan.autoencoder import autoencoder\n",
    "from unifan.classifier import classifier\n",
    "from unifan.utils import getGeneSetMatrix\n",
    "from unifan.trainer import Trainer"
   ]
  },
  {
   "cell_type": "markdown",
   "id": "bc147317",
   "metadata": {},
   "source": [
    "# 1. Set up parameters, training enviroments & outputs paths (user-specified)\n",
    "<a id=1></a>\n",
    "\n",
    "Users can specify the variables raleted to the datasets and the training conditions. Users can also specify the hyperparameters or just use the default values. This is the **<span style=\"color: red;\">only</span>** step requiring users' inputs. \n",
    "\n",
    "We also initialize the file paths to all outputs. We will **describe the outputs** in the corresponding section below."
   ]
  },
  {
   "cell_type": "markdown",
   "id": "57af411b",
   "metadata": {},
   "source": [
    "### Set up variables related to data "
   ]
  },
  {
   "cell_type": "code",
   "execution_count": 2,
   "id": "e4937c62",
   "metadata": {},
   "outputs": [],
   "source": [
    "project = \"tabula_muris\"\n",
    "tissue = \"Limb_Muscle\"\n",
    "\n",
    "data_filepath = f\"../example/input/{tissue}_facts_processed_3m.h5ad\"\n",
    "output_path = \"../example/output/\"\n",
    "gene_sets_path = \"../gene_sets/\"\n",
    "\n",
    "label_name = \"cell_ontology_class\"\n",
    "variable_gene_name = \"highly_variable\"\n",
    "\n",
    "random_seed = 0"
   ]
  },
  {
   "cell_type": "markdown",
   "id": "6cfbd4b7",
   "metadata": {},
   "source": [
    "### Set up training conditions "
   ]
  },
  {
   "cell_type": "code",
   "execution_count": null,
   "id": "9822b403",
   "metadata": {},
   "outputs": [],
   "source": [
    "use_cuda = False\n",
    "num_workers = 8\n",
    "\n",
    "# ------- no need to change the following -------\n",
    "device = torch.device(\"cuda\" if use_cuda else \"cpu\")\n",
    "if use_cuda:\n",
    "    pin_memory = True\n",
    "    non_blocking = True\n",
    "else:\n",
    "    pin_memory = False\n",
    "    non_blocking = False"
   ]
  },
  {
   "cell_type": "markdown",
   "id": "2b214559",
   "metadata": {},
   "source": [
    "### Set hyperparameters values\n",
    "1. The values in this tutorial are default hyperparameter values except for the number of epochs. Here we use 20 epochs for all training steps just for illustration purposes. The default values for the number of epochs are:\n",
    "    1. num_epochs_classifier = 50 \n",
    "    2. num_epochs_r = 70\n",
    "    3. num_epochs_z = 50\n",
    "    4. num_epochs_annocluster = 25"
   ]
  },
  {
   "cell_type": "code",
   "execution_count": 3,
   "id": "473c77e6",
   "metadata": {},
   "outputs": [],
   "source": [
    "prior_name = \"c5.go.bp.v7.4.symbols.gmt+c2.cp.v7.4.symbols.gmt+TF-DNA\"\n",
    "features_type = \"gene_gene_sets\"\n",
    "alpha = 1e-2\n",
    "beta = 1e-5\n",
    "weight_decay = 1e-3\n",
    "tau = 10\n",
    "z_dim = 32"
   ]
  },
  {
   "cell_type": "code",
   "execution_count": 4,
   "id": "101c99c9",
   "metadata": {},
   "outputs": [],
   "source": [
    "batch_size = 128\n",
    "\n",
    "num_epochs_classifier = 20 \n",
    "num_epochs_r = 20\n",
    "num_epochs_z = 20\n",
    "r_epoch = num_epochs_r - 1\n",
    "z_epoch = num_epochs_z - 1\n",
    "num_epochs_annocluster = 20\n",
    "\n",
    "# configuration for the gene set activity scores model \n",
    "r_encoder_layers = 5\n",
    "r_decoder_layers = 1  # need to fixed at 1 if using gene set matrix for decoder \n",
    "r_encoder_dim = 128\n",
    "r_decoder_dim = 128  # actually not used if using gene set matrix for decoder \n",
    "rnetwork = 'non-negative'\n",
    "\n",
    "# configuration for the AnnoCluster model\n",
    "z_encoder_layers = 3\n",
    "z_decoder_layers = 2\n",
    "z_encoder_dim = 128\n",
    "z_decoder_dim = 128"
   ]
  },
  {
   "cell_type": "markdown",
   "id": "6dc02659",
   "metadata": {},
   "source": [
    "### Initialize paths to outputs (no need user-input)\n",
    "\n",
    "Here we set up the paths to save the outputs. The outputs are:\n",
    "\n",
    "1. Gene set activity scores model:\n",
    "    1. Gene set activity scores model (input_r_ae_path)\n",
    "    2. Gene set activity scores (input_r_path) & processed gene set activity scores\n",
    "    3. Names of the features in the processed gene set activity scores (input_r_names_path)\n",
    "    4. Training stats (i.e. Trainining loss, validation loss, loss for different terms etc.)\n",
    "2. Pretrain results of the AnnoCluster model:\n",
    "    1. Pretrained AnnoCluster model (input_ae_path)\n",
    "    2. Initial z_e / low-dimensional representation of samples (input_z_path)\n",
    "    3. Initialized cluster assignment (input_cluster_path)\n",
    "    4. Training stats (i.e. Trainining loss, validation loss etc.)\n",
    "3. Pretrain results of the annotator model:\n",
    "    1. Pretrained annotator model\n",
    "    2. Training stats (i.e. Trainining loss, validation loss etc.)\n",
    "4. Training results of both annotator and AnnoCluster models: \n",
    "    1. Trained AnnoCluster and annotator model (saved in a single file) \n",
    "    2. Cluster assignments (annocluster_clusters_pre_{training epochs - 1}.npy)\n",
    "    3. z_e / low-dimensional representation of samples (annocluser_{training epochs - 1}.npy)\n",
    "    4. Training stats (i.e. Trainining loss, validation loss, loss for different terms, ARI and NMI based on the final clustering results etc.)\n",
    "    \n",
    "All models are saved as dictionaries, with keys \"epoch\", \"state_dict\" and \"optimizer\". For models trained together (final step, AnnoCluster with annotator), model 2 (annotator after the final step) is saved in \"state_dict_2\" and \"optimizer_2\"."
   ]
  },
  {
   "cell_type": "code",
   "execution_count": null,
   "id": "b9faba3f",
   "metadata": {},
   "outputs": [],
   "source": [
    "# ------ prepare for output\n",
    "output_parent_path = f\"{output_path}{project}/{tissue}/\"\n",
    "\n",
    "r_folder = f\"{output_parent_path}r\"\n",
    "input_r_ae_path = os.path.join(r_folder, f\"r_model_{r_epoch}.pickle\")\n",
    "input_r_path = os.path.join(r_folder, f\"r_{r_epoch}.npy\")\n",
    "input_r_names_path = os.path.join(r_folder, f\"r_names_{r_epoch}.npy\")\n",
    "\n",
    "pretrain_z_folder = f\"{output_parent_path}pretrain_z\"\n",
    "input_z_path = os.path.join(pretrain_z_folder, f\"pretrain_z_{z_epoch}.npy\")\n",
    "input_ae_path = os.path.join(pretrain_z_folder, f\"pretrain_z_model_{z_epoch}.pickle\")\n",
    "input_cluster_path = os.path.join(pretrain_z_folder, f\"cluster_{z_epoch}.npy\")\n",
    "\n",
    "pretrain_annotator_folder = f\"{output_parent_path}pretrain_annotator\"\n",
    "annocluster_folder = f\"{output_parent_path}annocluster_{features_type}\""
   ]
  },
  {
   "cell_type": "markdown",
   "id": "46e94e52",
   "metadata": {},
   "source": [
    "# 2. Load data & prepare get gene set matrix\n",
    "<a id=2></a>"
   ]
  },
  {
   "cell_type": "code",
   "execution_count": 8,
   "id": "652339b9",
   "metadata": {},
   "outputs": [],
   "source": [
    "# ------ load data\n",
    "if features_type in [\"gene\", \"gene_gene_sets\"]:\n",
    "    expression_only = AnnDataset(data_filepath, label_name=label_name, variable_gene_name=variable_gene_name)\n",
    "    exp_variable_genes = expression_only.exp_variable_genes\n",
    "    variable_genes_names = expression_only.variable_genes_names\n",
    "else:\n",
    "    expression_only = AnnDataset(data_filepath, label_name=label_name)\n",
    "    exp_variable_genes = None\n",
    "    variable_genes_names = None\n",
    "\n",
    "genes_upper = expression_only.genes_upper\n",
    "clusters_true = expression_only.clusters_true\n",
    "N = expression_only.N\n",
    "G = expression_only.G"
   ]
  },
  {
   "cell_type": "code",
   "execution_count": 9,
   "id": "b35a1910",
   "metadata": {},
   "outputs": [
    {
     "name": "stdout",
     "output_type": "stream",
     "text": [
      "GMT file c5.go.bp.v7.4.symbols.gmt loading ... \n",
      "7481\n",
      "Number of genes in c5.go.bp.v7.4.symbols.gmt 13430\n",
      "GMT file c2.cp.v7.4.symbols.gmt loading ... \n",
      "2922\n",
      "Number of genes in c2.cp.v7.4.symbols.gmt 10556\n"
     ]
    }
   ],
   "source": [
    "# ------ generate gene_set_matrix\n",
    "    \n",
    "if '+' in prior_name:\n",
    "    prior_names_list = prior_name.split('+')\n",
    "    \n",
    "    _matrix_list = []\n",
    "    _keys_list = []\n",
    "    for _name in prior_names_list:\n",
    "        _matrix, _keys = getGeneSetMatrix(_name, genes_upper, gene_sets_path)\n",
    "        _matrix_list.append(_matrix)\n",
    "        _keys_list.append(_keys)\n",
    "\n",
    "    gene_set_matrix = np.concatenate(_matrix_list, axis=0)\n",
    "    keys_all = list(itertools.chain(*_keys_list))\n",
    "\n",
    "    del _matrix_list\n",
    "    del _keys_list\n",
    "    gc.collect()\n",
    "\n",
    "else:\n",
    "    gene_set_matrix, keys_all = getGeneSetMatrix(prior_name, genes_upper, gene_sets_path)\n"
   ]
  },
  {
   "cell_type": "code",
   "execution_count": 10,
   "id": "23083a19",
   "metadata": {},
   "outputs": [],
   "source": [
    "# ------ set-up for the set cover loss\n",
    "if beta != 0:\n",
    "    # get the gene set matrix with only genes covered\n",
    "    genes_covered = np.sum(gene_set_matrix, axis=0)\n",
    "    gene_covered_matrix = gene_set_matrix[:, genes_covered != 0]\n",
    "    gene_covered_matrix = torch.from_numpy(gene_covered_matrix).to(device, non_blocking=non_blocking).float()\n",
    "    beta_list = torch.from_numpy(np.repeat(beta, gene_covered_matrix.shape[1])).to(device,\n",
    "                                                                           non_blocking=non_blocking).float()\n",
    "\n",
    "    del genes_covered\n",
    "    gc.collect()\n",
    "else:\n",
    "    gene_covered_matrix = None\n",
    "\n",
    "gene_set_dim = gene_set_matrix.shape[0]\n",
    "gene_set_matrix = torch.from_numpy(gene_set_matrix).to(device, non_blocking=non_blocking)"
   ]
  },
  {
   "cell_type": "markdown",
   "id": "2d2ff8c8",
   "metadata": {},
   "source": [
    "# 3. Train gene set activity scores (r) model \n",
    "<a id=3></a>\n",
    "\n",
    "Train the gene set activity scores model and infer the gene set activity scores. We will also process these scores by:\n",
    "\n",
    "    1. keeping only gene sets used at least once by cells \n",
    "    2. adding also 2000 most variable genes, if use \"gene_gene_sets\" for features_type, which is the default\n",
    "\n",
    "The outputs from this step are:\n",
    "\n",
    "    1. Gene set activity scores model (input_r_ae_path)\n",
    "    2. Gene set activity scores (input_r_path) & processed gene set activity scores\n",
    "    3. Names of the features in the processed gene set activity scores (input_r_names_path)\n",
    "    4. Training stats (i.e. Trainining loss, validation loss, loss for different terms etc.)"
   ]
  },
  {
   "cell_type": "code",
   "execution_count": 12,
   "id": "acbea020",
   "metadata": {},
   "outputs": [
    {
     "name": "stderr",
     "output_type": "stream",
     "text": [
      "  0%|          | 0/9 [00:00<?, ?it/s]"
     ]
    },
    {
     "name": "stdout",
     "output_type": "stream",
     "text": [
      "Start training the gene set activity scores model ... \n",
      "Current epoch: 0\n",
      "Start training...\n"
     ]
    },
    {
     "name": "stderr",
     "output_type": "stream",
     "text": [
      "100%|██████████| 9/9 [00:08<00:00,  1.12it/s]\n",
      "  0%|          | 0/9 [00:00<?, ?it/s]"
     ]
    },
    {
     "name": "stdout",
     "output_type": "stream",
     "text": [
      "Start evaluating train ...\n"
     ]
    },
    {
     "name": "stderr",
     "output_type": "stream",
     "text": [
      "100%|██████████| 9/9 [00:04<00:00,  1.89it/s]\n",
      "  0%|          | 0/9 [00:00<?, ?it/s]"
     ]
    },
    {
     "name": "stdout",
     "output_type": "stream",
     "text": [
      "Finish evaluating train...\n",
      "Start evaluating val...\n",
      "Finish evaluating val...\n",
      "Current epoch: 1\n",
      "Start training...\n"
     ]
    },
    {
     "name": "stderr",
     "output_type": "stream",
     "text": [
      "100%|██████████| 9/9 [00:08<00:00,  1.12it/s]\n",
      "  0%|          | 0/9 [00:00<?, ?it/s]"
     ]
    },
    {
     "name": "stdout",
     "output_type": "stream",
     "text": [
      "Current epoch: 2\n",
      "Start training...\n"
     ]
    },
    {
     "name": "stderr",
     "output_type": "stream",
     "text": [
      "100%|██████████| 9/9 [00:08<00:00,  1.12it/s]\n",
      "  0%|          | 0/9 [00:00<?, ?it/s]"
     ]
    },
    {
     "name": "stdout",
     "output_type": "stream",
     "text": [
      "Current epoch: 3\n",
      "Start training...\n"
     ]
    },
    {
     "name": "stderr",
     "output_type": "stream",
     "text": [
      "100%|██████████| 9/9 [00:07<00:00,  1.13it/s]\n",
      "  0%|          | 0/9 [00:00<?, ?it/s]"
     ]
    },
    {
     "name": "stdout",
     "output_type": "stream",
     "text": [
      "Current epoch: 4\n",
      "Start training...\n"
     ]
    },
    {
     "name": "stderr",
     "output_type": "stream",
     "text": [
      "100%|██████████| 9/9 [00:08<00:00,  1.12it/s]\n",
      "  0%|          | 0/9 [00:00<?, ?it/s]"
     ]
    },
    {
     "name": "stdout",
     "output_type": "stream",
     "text": [
      "Current epoch: 5\n",
      "Start training...\n"
     ]
    },
    {
     "name": "stderr",
     "output_type": "stream",
     "text": [
      "100%|██████████| 9/9 [00:08<00:00,  1.12it/s]\n",
      "  0%|          | 0/9 [00:00<?, ?it/s]"
     ]
    },
    {
     "name": "stdout",
     "output_type": "stream",
     "text": [
      "Current epoch: 6\n",
      "Start training...\n"
     ]
    },
    {
     "name": "stderr",
     "output_type": "stream",
     "text": [
      "100%|██████████| 9/9 [00:07<00:00,  1.13it/s]\n",
      "  0%|          | 0/9 [00:00<?, ?it/s]"
     ]
    },
    {
     "name": "stdout",
     "output_type": "stream",
     "text": [
      "Current epoch: 7\n",
      "Start training...\n"
     ]
    },
    {
     "name": "stderr",
     "output_type": "stream",
     "text": [
      "100%|██████████| 9/9 [00:07<00:00,  1.13it/s]\n",
      "  0%|          | 0/9 [00:00<?, ?it/s]"
     ]
    },
    {
     "name": "stdout",
     "output_type": "stream",
     "text": [
      "Current epoch: 8\n",
      "Start training...\n"
     ]
    },
    {
     "name": "stderr",
     "output_type": "stream",
     "text": [
      "100%|██████████| 9/9 [00:07<00:00,  1.13it/s]\n",
      "  0%|          | 0/9 [00:00<?, ?it/s]"
     ]
    },
    {
     "name": "stdout",
     "output_type": "stream",
     "text": [
      "Current epoch: 9\n",
      "Start training...\n"
     ]
    },
    {
     "name": "stderr",
     "output_type": "stream",
     "text": [
      "100%|██████████| 9/9 [00:07<00:00,  1.13it/s]\n",
      "  0%|          | 0/9 [00:00<?, ?it/s]"
     ]
    },
    {
     "name": "stdout",
     "output_type": "stream",
     "text": [
      "Current epoch: 10\n",
      "Start training...\n"
     ]
    },
    {
     "name": "stderr",
     "output_type": "stream",
     "text": [
      "100%|██████████| 9/9 [00:08<00:00,  1.12it/s]\n",
      "  0%|          | 0/9 [00:00<?, ?it/s]"
     ]
    },
    {
     "name": "stdout",
     "output_type": "stream",
     "text": [
      "Start evaluating train ...\n"
     ]
    },
    {
     "name": "stderr",
     "output_type": "stream",
     "text": [
      "100%|██████████| 9/9 [00:04<00:00,  1.85it/s]\n",
      "  0%|          | 0/9 [00:00<?, ?it/s]"
     ]
    },
    {
     "name": "stdout",
     "output_type": "stream",
     "text": [
      "Finish evaluating train...\n",
      "Start evaluating val...\n",
      "Finish evaluating val...\n",
      "Current epoch: 11\n",
      "Start training...\n"
     ]
    },
    {
     "name": "stderr",
     "output_type": "stream",
     "text": [
      "100%|██████████| 9/9 [00:07<00:00,  1.13it/s]\n",
      "  0%|          | 0/9 [00:00<?, ?it/s]"
     ]
    },
    {
     "name": "stdout",
     "output_type": "stream",
     "text": [
      "Current epoch: 12\n",
      "Start training...\n"
     ]
    },
    {
     "name": "stderr",
     "output_type": "stream",
     "text": [
      "100%|██████████| 9/9 [00:07<00:00,  1.14it/s]\n",
      "  0%|          | 0/9 [00:00<?, ?it/s]"
     ]
    },
    {
     "name": "stdout",
     "output_type": "stream",
     "text": [
      "Current epoch: 13\n",
      "Start training...\n"
     ]
    },
    {
     "name": "stderr",
     "output_type": "stream",
     "text": [
      "100%|██████████| 9/9 [00:08<00:00,  1.12it/s]\n",
      "  0%|          | 0/9 [00:00<?, ?it/s]"
     ]
    },
    {
     "name": "stdout",
     "output_type": "stream",
     "text": [
      "Current epoch: 14\n",
      "Start training...\n"
     ]
    },
    {
     "name": "stderr",
     "output_type": "stream",
     "text": [
      "100%|██████████| 9/9 [00:08<00:00,  1.10it/s]\n",
      "  0%|          | 0/9 [00:00<?, ?it/s]"
     ]
    },
    {
     "name": "stdout",
     "output_type": "stream",
     "text": [
      "Current epoch: 15\n",
      "Start training...\n"
     ]
    },
    {
     "name": "stderr",
     "output_type": "stream",
     "text": [
      "100%|██████████| 9/9 [00:08<00:00,  1.11it/s]\n",
      "  0%|          | 0/9 [00:00<?, ?it/s]"
     ]
    },
    {
     "name": "stdout",
     "output_type": "stream",
     "text": [
      "Current epoch: 16\n",
      "Start training...\n"
     ]
    },
    {
     "name": "stderr",
     "output_type": "stream",
     "text": [
      "100%|██████████| 9/9 [00:07<00:00,  1.13it/s]\n",
      "  0%|          | 0/9 [00:00<?, ?it/s]"
     ]
    },
    {
     "name": "stdout",
     "output_type": "stream",
     "text": [
      "Current epoch: 17\n",
      "Start training...\n"
     ]
    },
    {
     "name": "stderr",
     "output_type": "stream",
     "text": [
      "100%|██████████| 9/9 [00:08<00:00,  1.12it/s]\n",
      "  0%|          | 0/9 [00:00<?, ?it/s]"
     ]
    },
    {
     "name": "stdout",
     "output_type": "stream",
     "text": [
      "Current epoch: 18\n",
      "Start training...\n"
     ]
    },
    {
     "name": "stderr",
     "output_type": "stream",
     "text": [
      "100%|██████████| 9/9 [00:07<00:00,  1.13it/s]\n",
      "  0%|          | 0/9 [00:00<?, ?it/s]"
     ]
    },
    {
     "name": "stdout",
     "output_type": "stream",
     "text": [
      "Current epoch: 19\n",
      "Start training...\n"
     ]
    },
    {
     "name": "stderr",
     "output_type": "stream",
     "text": [
      "100%|██████████| 9/9 [00:07<00:00,  1.13it/s]\n"
     ]
    },
    {
     "name": "stdout",
     "output_type": "stream",
     "text": [
      "Start inferring ...\n",
      "Finish inferring ...\n",
      "Aftering filtering, we have 1089 genesets\n",
      "z_gene_set: gene_gene_sets: (1102, 3089)\n",
      "z_gene_set: gene_gene_sets: 3089\n"
     ]
    }
   ],
   "source": [
    "# ------ Train gene set activity scores (r) model ------\n",
    "if features_type == \"gene\":\n",
    "    z_gene_set = exp_variable_genes\n",
    "    set_names = list(variable_genes_names)\n",
    "else:\n",
    "\n",
    "    model_gene_set = autoencoder(input_dim=G, z_dim=gene_set_dim, gene_set_dim=gene_set_dim,\n",
    "                                 encoder_dim=r_encoder_dim, emission_dim=r_decoder_dim,\n",
    "                                 num_layers_encoder=r_encoder_layers, num_layers_decoder=r_decoder_layers,\n",
    "                                 reconstruction_network=rnetwork, decoding_network='geneSet',\n",
    "                                 gene_set_table=gene_set_matrix, use_cuda=use_cuda)\n",
    "\n",
    "    if os.path.isfile(input_r_path):\n",
    "        print(f\"Inferred r exists. No need to train the gene set activity scores model.\")\n",
    "        z_gene_set = np.load(input_r_path)\n",
    "    else:\n",
    "        if os.path.isfile(input_r_ae_path):\n",
    "            model_gene_set.load_state_dict(torch.load(input_r_ae_path)['state_dict'])\n",
    "\n",
    "        trainer = Trainer(dataset=expression_only, model=model_gene_set, model_name=\"r\", batch_size=batch_size,\n",
    "                          num_epochs=num_epochs_r, save_infer=True, output_folder=r_folder, num_workers=num_workers,\n",
    "                          use_cuda=use_cuda)\n",
    "        if os.path.isfile(input_r_ae_path):\n",
    "            print(f\"Inferred r model exists but r does not. Need to infer r and no need to train the gene set activity \"\n",
    "                  f\"scores model.\")\n",
    "            z_gene_set = trainer.infer_r(alpha=alpha, beta=beta, beta_list=beta_list,\n",
    "                                         gene_covered_matrix=gene_covered_matrix)\n",
    "            np.save(input_r_path, z_gene_set)\n",
    "        else:\n",
    "            print(f\"Start training the gene set activity scores model ... \")\n",
    "            trainer.train(alpha=alpha, beta=beta, beta_list=beta_list, gene_covered_matrix=gene_covered_matrix)\n",
    "            z_gene_set = np.load(input_r_path)\n",
    "\n",
    "    z_gene_set = torch.from_numpy(z_gene_set)\n",
    "\n",
    "    # filter r to keep only non-zero values\n",
    "    idx_non_0_gene_sets = np.where(z_gene_set.numpy().sum(axis=0) != 0)[0]\n",
    "\n",
    "    # get kepted gene set names\n",
    "    set_names = np.array(keys_all)[idx_non_0_gene_sets]\n",
    "\n",
    "    z_gene_set = z_gene_set[:, idx_non_0_gene_sets]\n",
    "    print(f\"Aftering filtering, we have {z_gene_set.shape[1]} genesets\")\n",
    "\n",
    "    # add also selected genes if using \"gene_gene_sets\"\n",
    "    if features_type == \"gene_gene_sets\":\n",
    "        z_gene_set = np.concatenate([z_gene_set, exp_variable_genes], axis=1)\n",
    "        set_names = list(set_names) + list(variable_genes_names)\n",
    "    else:\n",
    "        pass\n",
    "\n",
    "print(f\"z_gene_set: {features_type}: {z_gene_set.shape}\")\n",
    "print(f\"z_gene_set: {features_type}: {len(set_names)}\")\n",
    "\n",
    "# save feature names\n",
    "input_r_names_path = f\"{input_r_names_path}_filtered_{features_type}.npy\"\n",
    "np.save(input_r_names_path, set_names)\n",
    "\n",
    "# save processed features\n",
    "input_r_path = f\"{input_r_path}_filtered_{features_type}.npy\"\n",
    "np.save(input_r_path, z_gene_set)\n",
    "gene_set_dim = z_gene_set.shape[1]\n",
    "\n",
    "try:\n",
    "    z_gene_set = z_gene_set.numpy()\n",
    "except AttributeError:\n",
    "    pass"
   ]
  },
  {
   "cell_type": "markdown",
   "id": "81e2d00f",
   "metadata": {},
   "source": [
    "### visualize & evaluate the gene set activity scores \n",
    "\n",
    "    1. visualize gene set activity scores using UMAP\n",
    "    2. evaluate the scores quality by performing leiden clustering using the scores and comparing with ground truth (if available); this clustering result will not be used by downstream tasks"
   ]
  },
  {
   "cell_type": "code",
   "execution_count": 13,
   "id": "77ae0e32",
   "metadata": {
    "scrolled": true
   },
   "outputs": [
    {
     "name": "stdout",
     "output_type": "stream",
     "text": [
      "R: ARI for smaller cluster: 0.5540936568251427\n",
      "R: NMI for smaller cluster: 0.7328877915085344\n"
     ]
    },
    {
     "data": {
      "image/png": "[encoded data removed]",
      "text/plain": [
       "<Figure size 720x720 with 1 Axes>"
      ]
     },
     "metadata": {
      "needs_background": "light"
     },
     "output_type": "display_data"
    },
    {
     "data": {
      "image/png": "[encoded data removed]",
      "text/plain": [
       "<Figure size 720x720 with 1 Axes>"
      ]
     },
     "metadata": {
      "needs_background": "light"
     },
     "output_type": "display_data"
    }
   ],
   "source": [
    "# perform leiden clustering on the learned gene set activity scores\n",
    "adata = sc.AnnData(X=z_gene_set)\n",
    "adata.obsm['X_vati'] = z_gene_set\n",
    "sc.pp.neighbors(adata, n_pcs=gene_set_dim, use_rep='X_vati')\n",
    "sc.tl.leiden(adata, resolution=1)\n",
    "clusters_pre = adata.obs['leiden'].astype('int').values  # original as string\n",
    "\n",
    "# metrics\n",
    "if clusters_true is not None:\n",
    "    # load subset index for calculating ARI\n",
    "    if N > 5e4:\n",
    "        idx_stratified, _ = train_test_split(range(N), test_size=0.5, stratify=clusters_true)\n",
    "    else:\n",
    "        idx_stratified = range(N)\n",
    "    ari_smaller = adjusted_rand_score(clusters_pre[idx_stratified],\n",
    "                                      clusters_true[idx_stratified])\n",
    "    nmi_smaller = adjusted_mutual_info_score(clusters_pre, clusters_true)\n",
    "    print(f\"R: ARI for smaller cluster: {ari_smaller}\")\n",
    "    print(f\"R: NMI for smaller cluster: {nmi_smaller}\")\n",
    "else:\n",
    "    ari_smaller = np.nan\n",
    "    nmi_smaller = np.nan\n",
    "\n",
    "\n",
    "# color by cluster\n",
    "umap_original = umap.UMAP().fit_transform(z_gene_set)\n",
    "\n",
    "hues = {'label': clusters_true, 'cluster': clusters_pre}\n",
    "for k, v in hues.items():\n",
    "    df_plot = pd.DataFrame(umap_original)\n",
    "    if v is None:\n",
    "        df_plot['label'] = np.repeat(\"Label not available\", df_plot.shape[0])\n",
    "    else:\n",
    "        df_plot['label'] = v\n",
    "    df_plot['label'].astype('str')\n",
    "    df_plot.columns = ['dim_1', 'dim_2', 'label']\n",
    "\n",
    "    plt.figure(figsize=(10, 10))\n",
    "    sns.scatterplot(x='dim_1', y='dim_2', hue='label', data=df_plot, palette=\"Paired\", legend=True)\n",
    "    plt.title(f\"Gene set activity scores (r) colored by {k}; ARI: {round(ari_smaller, 2)}; NMI: {round(nmi_smaller, 2)}\")\n",
    "#     plt.savefig(os.path.join(r_folder, f\"r_{r_epoch}_{k}.png\"), bbox_inches=\"tight\", format=\"png\")\n",
    "    plt.show()\n",
    "    plt.close()\n"
   ]
  },
  {
   "cell_type": "markdown",
   "id": "00703b5e",
   "metadata": {},
   "source": [
    "# 4. Pretrain AnnoCluster & initialize clustering\n",
    "<a id=4></a>\n",
    "\n",
    "Pretrain the AnnoCluster model, obtain the initial low-dimensional representations z_e of cells and initialize the clustering using Leiden clustering. \n",
    "\n",
    "The outputs from this step are:\n",
    "\n",
    "    1. Pretrained AnnoCluster model (input_ae_path)\n",
    "    2. Initial z_e / low-dimensional representation of samples (input_z_path)\n",
    "    3. Initialized cluster assignment (input_cluster_path)\n",
    "    4. Training stats (i.e. Trainining loss, validation loss etc.)"
   ]
  },
  {
   "cell_type": "code",
   "execution_count": 14,
   "id": "a5852dc8",
   "metadata": {},
   "outputs": [
    {
     "name": "stderr",
     "output_type": "stream",
     "text": [
      "  0%|          | 0/9 [00:00<?, ?it/s]"
     ]
    },
    {
     "name": "stdout",
     "output_type": "stream",
     "text": [
      "Start training pretrain the annocluster model ... \n",
      "Current epoch: 0\n",
      "Start training...\n"
     ]
    },
    {
     "name": "stderr",
     "output_type": "stream",
     "text": [
      "100%|██████████| 9/9 [00:01<00:00,  4.84it/s]\n",
      "100%|██████████| 9/9 [00:01<00:00,  5.17it/s]\n",
      "  0%|          | 0/9 [00:00<?, ?it/s]"
     ]
    },
    {
     "name": "stdout",
     "output_type": "stream",
     "text": [
      "Current epoch: 1\n",
      "Start training...\n"
     ]
    },
    {
     "name": "stderr",
     "output_type": "stream",
     "text": [
      "100%|██████████| 9/9 [00:01<00:00,  4.83it/s]\n",
      "  0%|          | 0/9 [00:00<?, ?it/s]"
     ]
    },
    {
     "name": "stdout",
     "output_type": "stream",
     "text": [
      "Current epoch: 2\n",
      "Start training...\n"
     ]
    },
    {
     "name": "stderr",
     "output_type": "stream",
     "text": [
      "100%|██████████| 9/9 [00:01<00:00,  4.81it/s]\n",
      "  0%|          | 0/9 [00:00<?, ?it/s]"
     ]
    },
    {
     "name": "stdout",
     "output_type": "stream",
     "text": [
      "Current epoch: 3\n",
      "Start training...\n"
     ]
    },
    {
     "name": "stderr",
     "output_type": "stream",
     "text": [
      "100%|██████████| 9/9 [00:01<00:00,  4.80it/s]\n",
      "  0%|          | 0/9 [00:00<?, ?it/s]"
     ]
    },
    {
     "name": "stdout",
     "output_type": "stream",
     "text": [
      "Current epoch: 4\n",
      "Start training...\n"
     ]
    },
    {
     "name": "stderr",
     "output_type": "stream",
     "text": [
      "100%|██████████| 9/9 [00:02<00:00,  4.40it/s]\n",
      "  0%|          | 0/9 [00:00<?, ?it/s]"
     ]
    },
    {
     "name": "stdout",
     "output_type": "stream",
     "text": [
      "Current epoch: 5\n",
      "Start training...\n"
     ]
    },
    {
     "name": "stderr",
     "output_type": "stream",
     "text": [
      "100%|██████████| 9/9 [00:01<00:00,  4.79it/s]\n",
      "  0%|          | 0/9 [00:00<?, ?it/s]"
     ]
    },
    {
     "name": "stdout",
     "output_type": "stream",
     "text": [
      "Current epoch: 6\n",
      "Start training...\n"
     ]
    },
    {
     "name": "stderr",
     "output_type": "stream",
     "text": [
      "100%|██████████| 9/9 [00:01<00:00,  4.52it/s]\n",
      "  0%|          | 0/9 [00:00<?, ?it/s]"
     ]
    },
    {
     "name": "stdout",
     "output_type": "stream",
     "text": [
      "Current epoch: 7\n",
      "Start training...\n"
     ]
    },
    {
     "name": "stderr",
     "output_type": "stream",
     "text": [
      "100%|██████████| 9/9 [00:01<00:00,  4.55it/s]\n",
      "  0%|          | 0/9 [00:00<?, ?it/s]"
     ]
    },
    {
     "name": "stdout",
     "output_type": "stream",
     "text": [
      "Current epoch: 8\n",
      "Start training...\n"
     ]
    },
    {
     "name": "stderr",
     "output_type": "stream",
     "text": [
      "100%|██████████| 9/9 [00:01<00:00,  4.78it/s]\n",
      "  0%|          | 0/9 [00:00<?, ?it/s]"
     ]
    },
    {
     "name": "stdout",
     "output_type": "stream",
     "text": [
      "Current epoch: 9\n",
      "Start training...\n"
     ]
    },
    {
     "name": "stderr",
     "output_type": "stream",
     "text": [
      "100%|██████████| 9/9 [00:01<00:00,  4.59it/s]\n",
      "  0%|          | 0/9 [00:00<?, ?it/s]"
     ]
    },
    {
     "name": "stdout",
     "output_type": "stream",
     "text": [
      "Current epoch: 10\n",
      "Start training...\n"
     ]
    },
    {
     "name": "stderr",
     "output_type": "stream",
     "text": [
      "100%|██████████| 9/9 [00:01<00:00,  4.50it/s]\n",
      "100%|██████████| 9/9 [00:01<00:00,  5.20it/s]\n",
      "  0%|          | 0/9 [00:00<?, ?it/s]"
     ]
    },
    {
     "name": "stdout",
     "output_type": "stream",
     "text": [
      "Current epoch: 11\n",
      "Start training...\n"
     ]
    },
    {
     "name": "stderr",
     "output_type": "stream",
     "text": [
      "100%|██████████| 9/9 [00:01<00:00,  4.82it/s]\n",
      "  0%|          | 0/9 [00:00<?, ?it/s]"
     ]
    },
    {
     "name": "stdout",
     "output_type": "stream",
     "text": [
      "Current epoch: 12\n",
      "Start training...\n"
     ]
    },
    {
     "name": "stderr",
     "output_type": "stream",
     "text": [
      "100%|██████████| 9/9 [00:01<00:00,  4.59it/s]\n",
      "  0%|          | 0/9 [00:00<?, ?it/s]"
     ]
    },
    {
     "name": "stdout",
     "output_type": "stream",
     "text": [
      "Current epoch: 13\n",
      "Start training...\n"
     ]
    },
    {
     "name": "stderr",
     "output_type": "stream",
     "text": [
      "100%|██████████| 9/9 [00:01<00:00,  4.83it/s]\n",
      "  0%|          | 0/9 [00:00<?, ?it/s]"
     ]
    },
    {
     "name": "stdout",
     "output_type": "stream",
     "text": [
      "Current epoch: 14\n",
      "Start training...\n"
     ]
    },
    {
     "name": "stderr",
     "output_type": "stream",
     "text": [
      "100%|██████████| 9/9 [00:01<00:00,  4.80it/s]\n",
      "  0%|          | 0/9 [00:00<?, ?it/s]"
     ]
    },
    {
     "name": "stdout",
     "output_type": "stream",
     "text": [
      "Current epoch: 15\n",
      "Start training...\n"
     ]
    },
    {
     "name": "stderr",
     "output_type": "stream",
     "text": [
      "100%|██████████| 9/9 [00:01<00:00,  4.53it/s]\n",
      "  0%|          | 0/9 [00:00<?, ?it/s]"
     ]
    },
    {
     "name": "stdout",
     "output_type": "stream",
     "text": [
      "Current epoch: 16\n",
      "Start training...\n"
     ]
    },
    {
     "name": "stderr",
     "output_type": "stream",
     "text": [
      "100%|██████████| 9/9 [00:01<00:00,  4.58it/s]\n",
      "  0%|          | 0/9 [00:00<?, ?it/s]"
     ]
    },
    {
     "name": "stdout",
     "output_type": "stream",
     "text": [
      "Current epoch: 17\n",
      "Start training...\n"
     ]
    },
    {
     "name": "stderr",
     "output_type": "stream",
     "text": [
      "100%|██████████| 9/9 [00:01<00:00,  4.62it/s]\n",
      "  0%|          | 0/9 [00:00<?, ?it/s]"
     ]
    },
    {
     "name": "stdout",
     "output_type": "stream",
     "text": [
      "Current epoch: 18\n",
      "Start training...\n"
     ]
    },
    {
     "name": "stderr",
     "output_type": "stream",
     "text": [
      "100%|██████████| 9/9 [00:01<00:00,  4.55it/s]\n",
      "  0%|          | 0/9 [00:00<?, ?it/s]"
     ]
    },
    {
     "name": "stdout",
     "output_type": "stream",
     "text": [
      "Current epoch: 19\n",
      "Start training...\n"
     ]
    },
    {
     "name": "stderr",
     "output_type": "stream",
     "text": [
      "100%|██████████| 9/9 [00:01<00:00,  4.58it/s]\n",
      "100%|██████████| 9/9 [00:01<00:00,  5.08it/s]\n"
     ]
    }
   ],
   "source": [
    "# ------ Pretrain annocluster & initialize clustering ------\n",
    "model_autoencoder = autoencoder(input_dim=G, z_dim=z_dim, gene_set_dim=gene_set_dim,\n",
    "                                encoder_dim=z_encoder_dim, emission_dim=z_decoder_dim,\n",
    "                                num_layers_encoder=z_encoder_layers, num_layers_decoder=z_decoder_layers,\n",
    "                                reconstruction_network='gaussian', decoding_network='gaussian',\n",
    "                                use_cuda=use_cuda)\n",
    "\n",
    "if os.path.isfile(input_z_path) and os.path.isfile(input_ae_path):\n",
    "    print(f\"Both pretrained autoencoder and inferred z exist. No need to pretrain the annocluster model.\")\n",
    "    z_init = np.load(input_z_path)\n",
    "    model_autoencoder.load_state_dict(torch.load(input_ae_path)['state_dict'])\n",
    "else:\n",
    "    if os.path.isfile(input_ae_path):\n",
    "        model_autoencoder.load_state_dict(torch.load(input_ae_path)['state_dict'])\n",
    "\n",
    "    trainer = Trainer(dataset=expression_only, model=model_autoencoder, model_name=\"pretrain_z\", batch_size=batch_size,\n",
    "                      num_epochs=num_epochs_z, save_infer=True, output_folder=pretrain_z_folder, num_workers=num_workers,\n",
    "                      use_cuda=use_cuda)\n",
    "\n",
    "    if os.path.isfile(input_ae_path):\n",
    "        print(f\"Only pretrained autoencoder exists. Need to infer z and no need to pretrain the annocluster model.\")\n",
    "        z_init = trainer.infer_z()\n",
    "        np.save(input_z_path, z_init)\n",
    "    else:\n",
    "        print(f\"Start training pretrain the annocluster model ... \")\n",
    "        trainer.train()\n",
    "        z_init = np.load(input_z_path)\n",
    "\n",
    "z_init = torch.from_numpy(z_init)"
   ]
  },
  {
   "cell_type": "code",
   "execution_count": 15,
   "id": "0bc94c26",
   "metadata": {},
   "outputs": [],
   "source": [
    "try:\n",
    "    z_init = z_init.numpy()\n",
    "except AttributeError:\n",
    "    pass"
   ]
  },
  {
   "cell_type": "code",
   "execution_count": 16,
   "id": "8af4f453",
   "metadata": {},
   "outputs": [],
   "source": [
    "# initialize using leiden clustering\n",
    "adata = sc.AnnData(X=z_init)\n",
    "adata.obsm['X_unifan'] = z_init\n",
    "sc.pp.neighbors(adata, n_pcs=z_dim,  use_rep='X_unifan', random_state=random_seed)\n",
    "sc.tl.leiden(adata, resolution=1, random_state=random_seed)\n",
    "clusters_pre = adata.obs['leiden'].astype('int').values  # original as string\n",
    "\n",
    "# save for the dataset for classifier training\n",
    "np.save(input_cluster_path, clusters_pre)\n",
    "\n",
    "# initialize centroids\n",
    "try:\n",
    "    df_cluster = pd.DataFrame(z_init.detach().cpu().numpy())\n",
    "except AttributeError:\n",
    "    df_cluster = pd.DataFrame(z_init)\n",
    "\n",
    "cluster_labels = np.unique(clusters_pre)\n",
    "M = len(set(cluster_labels))  # set as number of clusters\n",
    "df_cluster['cluster'] = clusters_pre\n",
    "\n",
    "# get centroids\n",
    "centroids = df_cluster.groupby('cluster').mean().values\n",
    "centroids_torch = torch.from_numpy(centroids)"
   ]
  },
  {
   "cell_type": "markdown",
   "id": "f75da013",
   "metadata": {},
   "source": [
    "### visualize & evaluate the initial low-dimensional rerpesentations \n",
    "\n",
    "    1. visualize using UMAP\n",
    "    2. evaluate the initialization by comparing with the ground truth (if available)"
   ]
  },
  {
   "cell_type": "code",
   "execution_count": 17,
   "id": "9cf67a36",
   "metadata": {},
   "outputs": [
    {
     "name": "stdout",
     "output_type": "stream",
     "text": [
      "R: ARI for smaller cluster: 0.2890107483295252\n",
      "R: NMI for smaller cluster: 0.6484405686250209\n"
     ]
    },
    {
     "data": {
      "image/png": "[encoded data removed]",
      "text/plain": [
       "<Figure size 720x720 with 1 Axes>"
      ]
     },
     "metadata": {
      "needs_background": "light"
     },
     "output_type": "display_data"
    },
    {
     "data": {
      "image/png": "[encoded data removed]",
      "text/plain": [
       "<Figure size 720x720 with 1 Axes>"
      ]
     },
     "metadata": {
      "needs_background": "light"
     },
     "output_type": "display_data"
    }
   ],
   "source": [
    "if clusters_true is not None:\n",
    "    # load subset index for calculating ARI\n",
    "    if N > 5e4:\n",
    "        idx_stratified, _ = train_test_split(range(N), test_size=0.5, stratify=clusters_true)\n",
    "    else:\n",
    "        idx_stratified = range(N)\n",
    "    ari_smaller = adjusted_rand_score(clusters_pre[idx_stratified],\n",
    "                                      clusters_true[idx_stratified])\n",
    "    nmi_smaller = adjusted_mutual_info_score(clusters_pre, clusters_true)\n",
    "    print(f\"R: ARI for smaller cluster: {ari_smaller}\")\n",
    "    print(f\"R: NMI for smaller cluster: {nmi_smaller}\")\n",
    "else:\n",
    "    ari_smaller = np.nan\n",
    "    nmi_smaller = np.nan\n",
    "\n",
    "umap_original = umap.UMAP().fit_transform(z_init)\n",
    "\n",
    "# color by cluster\n",
    "hues = {'label': clusters_true, 'cluster': clusters_pre}\n",
    "for k, v in hues.items():\n",
    "    df_plot = pd.DataFrame(umap_original)\n",
    "    if v is None:\n",
    "        df_plot['label'] = np.repeat(\"Label not available\", df_plot.shape[0])\n",
    "    else:\n",
    "        df_plot['label'] = v\n",
    "    df_plot['label'].astype('str')\n",
    "    df_plot.columns = ['dim_1', 'dim_2', 'label']\n",
    "\n",
    "    plt.figure(figsize=(10, 10))\n",
    "    sns.scatterplot(x='dim_1', y='dim_2', hue='label', data=df_plot, palette=\"Paired\",\n",
    "                    legend=True)\n",
    "    plt.title(f\"Encoding (z) colored by {k}; ARI: {round(ari_smaller, 2)}; NMI: {round(nmi_smaller, 2)}\")\n",
    "#     plt.savefig(os.path.join(pretrain_z_folder, f\"z_{z_epoch}_{k}.png\"), bbox_inches=\"tight\", format=\"png\")\n",
    "    plt.show()\n",
    "    plt.close()"
   ]
  },
  {
   "cell_type": "markdown",
   "id": "885c9a72",
   "metadata": {},
   "source": [
    "# 5. Pretrain annotator (classification)\n",
    "<a id=5></a>\n",
    "\n",
    "Pretrain the annotator model, using the initialized cluster assignments as true labels. The weight_decay hypeparameter is automatically selected based on the training accuracy.\n",
    "\n",
    "The outputs from this step are:\n",
    "\n",
    "    1. Pretrained annotator model\n",
    "    2. Training stats (i.e. Trainining loss, validation loss etc.)"
   ]
  },
  {
   "cell_type": "code",
   "execution_count": 18,
   "id": "718b0e8f",
   "metadata": {
    "scrolled": true
   },
   "outputs": [
    {
     "name": "stderr",
     "output_type": "stream",
     "text": [
      "  0%|          | 0/35 [00:00<?, ?it/s]"
     ]
    },
    {
     "name": "stdout",
     "output_type": "stream",
     "text": [
      "Run classifier the 1th time with 0.001\n",
      "Current epoch: 0\n",
      "Start training...\n"
     ]
    },
    {
     "name": "stderr",
     "output_type": "stream",
     "text": [
      "100%|██████████| 35/35 [00:00<00:00, 65.88it/s]\n",
      "100%|██████████| 35/35 [00:00<00:00, 70.56it/s]\n",
      "  0%|          | 0/35 [00:00<?, ?it/s]"
     ]
    },
    {
     "name": "stdout",
     "output_type": "stream",
     "text": [
      "Current epoch: 1\n",
      "Start training...\n"
     ]
    },
    {
     "name": "stderr",
     "output_type": "stream",
     "text": [
      "100%|██████████| 35/35 [00:00<00:00, 69.96it/s]\n",
      "  0%|          | 0/35 [00:00<?, ?it/s]"
     ]
    },
    {
     "name": "stdout",
     "output_type": "stream",
     "text": [
      "Current epoch: 2\n",
      "Start training...\n"
     ]
    },
    {
     "name": "stderr",
     "output_type": "stream",
     "text": [
      "100%|██████████| 35/35 [00:00<00:00, 67.82it/s]\n",
      "  0%|          | 0/35 [00:00<?, ?it/s]"
     ]
    },
    {
     "name": "stdout",
     "output_type": "stream",
     "text": [
      "Current epoch: 3\n",
      "Start training...\n"
     ]
    },
    {
     "name": "stderr",
     "output_type": "stream",
     "text": [
      "100%|██████████| 35/35 [00:00<00:00, 70.85it/s]\n",
      "  0%|          | 0/35 [00:00<?, ?it/s]"
     ]
    },
    {
     "name": "stdout",
     "output_type": "stream",
     "text": [
      "Current epoch: 4\n",
      "Start training...\n"
     ]
    },
    {
     "name": "stderr",
     "output_type": "stream",
     "text": [
      "100%|██████████| 35/35 [00:00<00:00, 68.89it/s]\n",
      "  0%|          | 0/35 [00:00<?, ?it/s]"
     ]
    },
    {
     "name": "stdout",
     "output_type": "stream",
     "text": [
      "Current epoch: 5\n",
      "Start training...\n"
     ]
    },
    {
     "name": "stderr",
     "output_type": "stream",
     "text": [
      "100%|██████████| 35/35 [00:00<00:00, 67.88it/s]\n",
      "  0%|          | 0/35 [00:00<?, ?it/s]"
     ]
    },
    {
     "name": "stdout",
     "output_type": "stream",
     "text": [
      "Current epoch: 6\n",
      "Start training...\n"
     ]
    },
    {
     "name": "stderr",
     "output_type": "stream",
     "text": [
      "100%|██████████| 35/35 [00:00<00:00, 71.64it/s]\n",
      "  0%|          | 0/35 [00:00<?, ?it/s]"
     ]
    },
    {
     "name": "stdout",
     "output_type": "stream",
     "text": [
      "Current epoch: 7\n",
      "Start training...\n"
     ]
    },
    {
     "name": "stderr",
     "output_type": "stream",
     "text": [
      "100%|██████████| 35/35 [00:00<00:00, 65.18it/s]\n",
      "  0%|          | 0/35 [00:00<?, ?it/s]"
     ]
    },
    {
     "name": "stdout",
     "output_type": "stream",
     "text": [
      "Current epoch: 8\n",
      "Start training...\n"
     ]
    },
    {
     "name": "stderr",
     "output_type": "stream",
     "text": [
      "100%|██████████| 35/35 [00:00<00:00, 67.37it/s]\n",
      "  0%|          | 0/35 [00:00<?, ?it/s]"
     ]
    },
    {
     "name": "stdout",
     "output_type": "stream",
     "text": [
      "Current epoch: 9\n",
      "Start training...\n"
     ]
    },
    {
     "name": "stderr",
     "output_type": "stream",
     "text": [
      "100%|██████████| 35/35 [00:00<00:00, 70.01it/s]\n",
      "  0%|          | 0/35 [00:00<?, ?it/s]"
     ]
    },
    {
     "name": "stdout",
     "output_type": "stream",
     "text": [
      "Current epoch: 10\n",
      "Start training...\n"
     ]
    },
    {
     "name": "stderr",
     "output_type": "stream",
     "text": [
      "100%|██████████| 35/35 [00:00<00:00, 67.40it/s]\n",
      "100%|██████████| 35/35 [00:00<00:00, 75.78it/s]\n",
      "  0%|          | 0/35 [00:00<?, ?it/s]"
     ]
    },
    {
     "name": "stdout",
     "output_type": "stream",
     "text": [
      "Current epoch: 11\n",
      "Start training...\n"
     ]
    },
    {
     "name": "stderr",
     "output_type": "stream",
     "text": [
      "100%|██████████| 35/35 [00:00<00:00, 71.12it/s]\n",
      "  0%|          | 0/35 [00:00<?, ?it/s]"
     ]
    },
    {
     "name": "stdout",
     "output_type": "stream",
     "text": [
      "Current epoch: 12\n",
      "Start training...\n"
     ]
    },
    {
     "name": "stderr",
     "output_type": "stream",
     "text": [
      "100%|██████████| 35/35 [00:00<00:00, 69.63it/s]\n",
      "  0%|          | 0/35 [00:00<?, ?it/s]"
     ]
    },
    {
     "name": "stdout",
     "output_type": "stream",
     "text": [
      "Current epoch: 13\n",
      "Start training...\n"
     ]
    },
    {
     "name": "stderr",
     "output_type": "stream",
     "text": [
      "100%|██████████| 35/35 [00:00<00:00, 70.13it/s]\n",
      "  0%|          | 0/35 [00:00<?, ?it/s]"
     ]
    },
    {
     "name": "stdout",
     "output_type": "stream",
     "text": [
      "Current epoch: 14\n",
      "Start training...\n"
     ]
    },
    {
     "name": "stderr",
     "output_type": "stream",
     "text": [
      "100%|██████████| 35/35 [00:00<00:00, 70.95it/s]\n",
      "  0%|          | 0/35 [00:00<?, ?it/s]"
     ]
    },
    {
     "name": "stdout",
     "output_type": "stream",
     "text": [
      "Current epoch: 15\n",
      "Start training...\n"
     ]
    },
    {
     "name": "stderr",
     "output_type": "stream",
     "text": [
      "100%|██████████| 35/35 [00:00<00:00, 65.58it/s]\n",
      "  0%|          | 0/35 [00:00<?, ?it/s]"
     ]
    },
    {
     "name": "stdout",
     "output_type": "stream",
     "text": [
      "Current epoch: 16\n",
      "Start training...\n"
     ]
    },
    {
     "name": "stderr",
     "output_type": "stream",
     "text": [
      "100%|██████████| 35/35 [00:00<00:00, 65.70it/s]\n",
      "  0%|          | 0/35 [00:00<?, ?it/s]"
     ]
    },
    {
     "name": "stdout",
     "output_type": "stream",
     "text": [
      "Current epoch: 17\n",
      "Start training...\n"
     ]
    },
    {
     "name": "stderr",
     "output_type": "stream",
     "text": [
      "100%|██████████| 35/35 [00:00<00:00, 67.72it/s]\n",
      "  0%|          | 0/35 [00:00<?, ?it/s]"
     ]
    },
    {
     "name": "stdout",
     "output_type": "stream",
     "text": [
      "Current epoch: 18\n",
      "Start training...\n"
     ]
    },
    {
     "name": "stderr",
     "output_type": "stream",
     "text": [
      "100%|██████████| 35/35 [00:00<00:00, 68.97it/s]\n",
      "  0%|          | 0/35 [00:00<?, ?it/s]"
     ]
    },
    {
     "name": "stdout",
     "output_type": "stream",
     "text": [
      "Current epoch: 19\n",
      "Start training...\n"
     ]
    },
    {
     "name": "stderr",
     "output_type": "stream",
     "text": [
      "100%|██████████| 35/35 [00:00<00:00, 71.99it/s]\n",
      "  0%|          | 0/35 [00:00<?, ?it/s]"
     ]
    },
    {
     "name": "stdout",
     "output_type": "stream",
     "text": [
      "Cluster accuracy on training: \n",
      " 1.0\n",
      "Run classifier the 2th time with 0.01\n",
      "Current epoch: 0\n",
      "Start training...\n"
     ]
    },
    {
     "name": "stderr",
     "output_type": "stream",
     "text": [
      "100%|██████████| 35/35 [00:00<00:00, 62.64it/s]\n",
      "100%|██████████| 35/35 [00:00<00:00, 74.44it/s]\n",
      "  0%|          | 0/35 [00:00<?, ?it/s]"
     ]
    },
    {
     "name": "stdout",
     "output_type": "stream",
     "text": [
      "Current epoch: 1\n",
      "Start training...\n"
     ]
    },
    {
     "name": "stderr",
     "output_type": "stream",
     "text": [
      "100%|██████████| 35/35 [00:00<00:00, 72.68it/s]\n",
      "  0%|          | 0/35 [00:00<?, ?it/s]"
     ]
    },
    {
     "name": "stdout",
     "output_type": "stream",
     "text": [
      "Current epoch: 2\n",
      "Start training...\n"
     ]
    },
    {
     "name": "stderr",
     "output_type": "stream",
     "text": [
      "100%|██████████| 35/35 [00:00<00:00, 72.44it/s]\n",
      "  0%|          | 0/35 [00:00<?, ?it/s]"
     ]
    },
    {
     "name": "stdout",
     "output_type": "stream",
     "text": [
      "Current epoch: 3\n",
      "Start training...\n"
     ]
    },
    {
     "name": "stderr",
     "output_type": "stream",
     "text": [
      "100%|██████████| 35/35 [00:00<00:00, 71.62it/s]\n",
      "  0%|          | 0/35 [00:00<?, ?it/s]"
     ]
    },
    {
     "name": "stdout",
     "output_type": "stream",
     "text": [
      "Current epoch: 4\n",
      "Start training...\n"
     ]
    },
    {
     "name": "stderr",
     "output_type": "stream",
     "text": [
      "100%|██████████| 35/35 [00:00<00:00, 69.93it/s]\n",
      "  0%|          | 0/35 [00:00<?, ?it/s]"
     ]
    },
    {
     "name": "stdout",
     "output_type": "stream",
     "text": [
      "Current epoch: 5\n",
      "Start training...\n"
     ]
    },
    {
     "name": "stderr",
     "output_type": "stream",
     "text": [
      "100%|██████████| 35/35 [00:00<00:00, 67.01it/s]\n",
      "  0%|          | 0/35 [00:00<?, ?it/s]"
     ]
    },
    {
     "name": "stdout",
     "output_type": "stream",
     "text": [
      "Current epoch: 6\n",
      "Start training...\n"
     ]
    },
    {
     "name": "stderr",
     "output_type": "stream",
     "text": [
      "100%|██████████| 35/35 [00:00<00:00, 69.77it/s]\n",
      "  0%|          | 0/35 [00:00<?, ?it/s]"
     ]
    },
    {
     "name": "stdout",
     "output_type": "stream",
     "text": [
      "Current epoch: 7\n",
      "Start training...\n"
     ]
    },
    {
     "name": "stderr",
     "output_type": "stream",
     "text": [
      "100%|██████████| 35/35 [00:00<00:00, 66.26it/s]\n",
      "  0%|          | 0/35 [00:00<?, ?it/s]"
     ]
    },
    {
     "name": "stdout",
     "output_type": "stream",
     "text": [
      "Current epoch: 8\n",
      "Start training...\n"
     ]
    },
    {
     "name": "stderr",
     "output_type": "stream",
     "text": [
      "100%|██████████| 35/35 [00:00<00:00, 71.92it/s]\n",
      "  0%|          | 0/35 [00:00<?, ?it/s]"
     ]
    },
    {
     "name": "stdout",
     "output_type": "stream",
     "text": [
      "Current epoch: 9\n",
      "Start training...\n"
     ]
    },
    {
     "name": "stderr",
     "output_type": "stream",
     "text": [
      "100%|██████████| 35/35 [00:00<00:00, 66.66it/s]\n",
      "  0%|          | 0/35 [00:00<?, ?it/s]"
     ]
    },
    {
     "name": "stdout",
     "output_type": "stream",
     "text": [
      "Current epoch: 10\n",
      "Start training...\n"
     ]
    },
    {
     "name": "stderr",
     "output_type": "stream",
     "text": [
      "100%|██████████| 35/35 [00:00<00:00, 69.49it/s]\n",
      "100%|██████████| 35/35 [00:00<00:00, 75.20it/s]\n",
      "  0%|          | 0/35 [00:00<?, ?it/s]"
     ]
    },
    {
     "name": "stdout",
     "output_type": "stream",
     "text": [
      "Current epoch: 11\n",
      "Start training...\n"
     ]
    },
    {
     "name": "stderr",
     "output_type": "stream",
     "text": [
      "100%|██████████| 35/35 [00:00<00:00, 67.47it/s]\n",
      "  0%|          | 0/35 [00:00<?, ?it/s]"
     ]
    },
    {
     "name": "stdout",
     "output_type": "stream",
     "text": [
      "Current epoch: 12\n",
      "Start training...\n"
     ]
    },
    {
     "name": "stderr",
     "output_type": "stream",
     "text": [
      "100%|██████████| 35/35 [00:00<00:00, 66.29it/s]\n",
      "  0%|          | 0/35 [00:00<?, ?it/s]"
     ]
    },
    {
     "name": "stdout",
     "output_type": "stream",
     "text": [
      "Current epoch: 13\n",
      "Start training...\n"
     ]
    },
    {
     "name": "stderr",
     "output_type": "stream",
     "text": [
      "100%|██████████| 35/35 [00:00<00:00, 68.91it/s]\n",
      "  0%|          | 0/35 [00:00<?, ?it/s]"
     ]
    },
    {
     "name": "stdout",
     "output_type": "stream",
     "text": [
      "Current epoch: 14\n",
      "Start training...\n"
     ]
    },
    {
     "name": "stderr",
     "output_type": "stream",
     "text": [
      "100%|██████████| 35/35 [00:00<00:00, 66.29it/s]\n",
      "  0%|          | 0/35 [00:00<?, ?it/s]"
     ]
    },
    {
     "name": "stdout",
     "output_type": "stream",
     "text": [
      "Current epoch: 15\n",
      "Start training...\n"
     ]
    },
    {
     "name": "stderr",
     "output_type": "stream",
     "text": [
      "100%|██████████| 35/35 [00:00<00:00, 66.71it/s]\n",
      "  0%|          | 0/35 [00:00<?, ?it/s]"
     ]
    },
    {
     "name": "stdout",
     "output_type": "stream",
     "text": [
      "Current epoch: 16\n",
      "Start training...\n"
     ]
    },
    {
     "name": "stderr",
     "output_type": "stream",
     "text": [
      "100%|██████████| 35/35 [00:00<00:00, 72.49it/s]\n",
      "  0%|          | 0/35 [00:00<?, ?it/s]"
     ]
    },
    {
     "name": "stdout",
     "output_type": "stream",
     "text": [
      "Current epoch: 17\n",
      "Start training...\n"
     ]
    },
    {
     "name": "stderr",
     "output_type": "stream",
     "text": [
      "100%|██████████| 35/35 [00:00<00:00, 66.13it/s]\n",
      "  0%|          | 0/35 [00:00<?, ?it/s]"
     ]
    },
    {
     "name": "stdout",
     "output_type": "stream",
     "text": [
      "Current epoch: 18\n",
      "Start training...\n"
     ]
    },
    {
     "name": "stderr",
     "output_type": "stream",
     "text": [
      "100%|██████████| 35/35 [00:00<00:00, 69.21it/s]\n",
      "  0%|          | 0/35 [00:00<?, ?it/s]"
     ]
    },
    {
     "name": "stdout",
     "output_type": "stream",
     "text": [
      "Current epoch: 19\n",
      "Start training...\n"
     ]
    },
    {
     "name": "stderr",
     "output_type": "stream",
     "text": [
      "100%|██████████| 35/35 [00:00<00:00, 67.41it/s]\n",
      "  0%|          | 0/35 [00:00<?, ?it/s]"
     ]
    },
    {
     "name": "stdout",
     "output_type": "stream",
     "text": [
      "Cluster accuracy on training: \n",
      " 0.9990925589836661\n",
      "Run classifier the 3th time with 0.1\n",
      "Current epoch: 0\n",
      "Start training...\n"
     ]
    },
    {
     "name": "stderr",
     "output_type": "stream",
     "text": [
      "100%|██████████| 35/35 [00:00<00:00, 67.76it/s]\n",
      "100%|██████████| 35/35 [00:00<00:00, 69.67it/s]\n",
      "  0%|          | 0/35 [00:00<?, ?it/s]"
     ]
    },
    {
     "name": "stdout",
     "output_type": "stream",
     "text": [
      "Current epoch: 1\n",
      "Start training...\n"
     ]
    },
    {
     "name": "stderr",
     "output_type": "stream",
     "text": [
      "100%|██████████| 35/35 [00:00<00:00, 68.50it/s]\n",
      "  0%|          | 0/35 [00:00<?, ?it/s]"
     ]
    },
    {
     "name": "stdout",
     "output_type": "stream",
     "text": [
      "Current epoch: 2\n",
      "Start training...\n"
     ]
    },
    {
     "name": "stderr",
     "output_type": "stream",
     "text": [
      "100%|██████████| 35/35 [00:00<00:00, 69.86it/s]\n",
      "  0%|          | 0/35 [00:00<?, ?it/s]"
     ]
    },
    {
     "name": "stdout",
     "output_type": "stream",
     "text": [
      "Current epoch: 3\n",
      "Start training...\n"
     ]
    },
    {
     "name": "stderr",
     "output_type": "stream",
     "text": [
      "100%|██████████| 35/35 [00:00<00:00, 68.24it/s]\n",
      "  0%|          | 0/35 [00:00<?, ?it/s]"
     ]
    },
    {
     "name": "stdout",
     "output_type": "stream",
     "text": [
      "Current epoch: 4\n",
      "Start training...\n"
     ]
    },
    {
     "name": "stderr",
     "output_type": "stream",
     "text": [
      "100%|██████████| 35/35 [00:00<00:00, 71.33it/s]\n",
      "  0%|          | 0/35 [00:00<?, ?it/s]"
     ]
    },
    {
     "name": "stdout",
     "output_type": "stream",
     "text": [
      "Current epoch: 5\n",
      "Start training...\n"
     ]
    },
    {
     "name": "stderr",
     "output_type": "stream",
     "text": [
      "100%|██████████| 35/35 [00:00<00:00, 69.03it/s]\n",
      "  0%|          | 0/35 [00:00<?, ?it/s]"
     ]
    },
    {
     "name": "stdout",
     "output_type": "stream",
     "text": [
      "Current epoch: 6\n",
      "Start training...\n"
     ]
    },
    {
     "name": "stderr",
     "output_type": "stream",
     "text": [
      "100%|██████████| 35/35 [00:00<00:00, 72.35it/s]\n",
      "  0%|          | 0/35 [00:00<?, ?it/s]"
     ]
    },
    {
     "name": "stdout",
     "output_type": "stream",
     "text": [
      "Current epoch: 7\n",
      "Start training...\n"
     ]
    },
    {
     "name": "stderr",
     "output_type": "stream",
     "text": [
      "100%|██████████| 35/35 [00:00<00:00, 70.24it/s]\n",
      "  0%|          | 0/35 [00:00<?, ?it/s]"
     ]
    },
    {
     "name": "stdout",
     "output_type": "stream",
     "text": [
      "Current epoch: 8\n",
      "Start training...\n"
     ]
    },
    {
     "name": "stderr",
     "output_type": "stream",
     "text": [
      "100%|██████████| 35/35 [00:00<00:00, 69.13it/s]\n",
      "  0%|          | 0/35 [00:00<?, ?it/s]"
     ]
    },
    {
     "name": "stdout",
     "output_type": "stream",
     "text": [
      "Current epoch: 9\n",
      "Start training...\n"
     ]
    },
    {
     "name": "stderr",
     "output_type": "stream",
     "text": [
      "100%|██████████| 35/35 [00:00<00:00, 70.04it/s]\n",
      "  0%|          | 0/35 [00:00<?, ?it/s]"
     ]
    },
    {
     "name": "stdout",
     "output_type": "stream",
     "text": [
      "Current epoch: 10\n",
      "Start training...\n"
     ]
    },
    {
     "name": "stderr",
     "output_type": "stream",
     "text": [
      "100%|██████████| 35/35 [00:00<00:00, 66.50it/s]\n",
      "100%|██████████| 35/35 [00:00<00:00, 73.26it/s]\n",
      "  0%|          | 0/35 [00:00<?, ?it/s]"
     ]
    },
    {
     "name": "stdout",
     "output_type": "stream",
     "text": [
      "Current epoch: 11\n",
      "Start training...\n"
     ]
    },
    {
     "name": "stderr",
     "output_type": "stream",
     "text": [
      "100%|██████████| 35/35 [00:00<00:00, 69.75it/s]\n",
      "  0%|          | 0/35 [00:00<?, ?it/s]"
     ]
    },
    {
     "name": "stdout",
     "output_type": "stream",
     "text": [
      "Current epoch: 12\n",
      "Start training...\n"
     ]
    },
    {
     "name": "stderr",
     "output_type": "stream",
     "text": [
      "100%|██████████| 35/35 [00:00<00:00, 69.33it/s]\n",
      "  0%|          | 0/35 [00:00<?, ?it/s]"
     ]
    },
    {
     "name": "stdout",
     "output_type": "stream",
     "text": [
      "Current epoch: 13\n",
      "Start training...\n"
     ]
    },
    {
     "name": "stderr",
     "output_type": "stream",
     "text": [
      "100%|██████████| 35/35 [00:00<00:00, 72.88it/s]\n",
      "  0%|          | 0/35 [00:00<?, ?it/s]"
     ]
    },
    {
     "name": "stdout",
     "output_type": "stream",
     "text": [
      "Current epoch: 14\n",
      "Start training...\n"
     ]
    },
    {
     "name": "stderr",
     "output_type": "stream",
     "text": [
      "100%|██████████| 35/35 [00:00<00:00, 72.63it/s]\n",
      "  0%|          | 0/35 [00:00<?, ?it/s]"
     ]
    },
    {
     "name": "stdout",
     "output_type": "stream",
     "text": [
      "Current epoch: 15\n",
      "Start training...\n"
     ]
    },
    {
     "name": "stderr",
     "output_type": "stream",
     "text": [
      "100%|██████████| 35/35 [00:00<00:00, 68.98it/s]\n",
      "  0%|          | 0/35 [00:00<?, ?it/s]"
     ]
    },
    {
     "name": "stdout",
     "output_type": "stream",
     "text": [
      "Current epoch: 16\n",
      "Start training...\n"
     ]
    },
    {
     "name": "stderr",
     "output_type": "stream",
     "text": [
      "100%|██████████| 35/35 [00:00<00:00, 68.57it/s]\n",
      "  0%|          | 0/35 [00:00<?, ?it/s]"
     ]
    },
    {
     "name": "stdout",
     "output_type": "stream",
     "text": [
      "Current epoch: 17\n",
      "Start training...\n"
     ]
    },
    {
     "name": "stderr",
     "output_type": "stream",
     "text": [
      "100%|██████████| 35/35 [00:00<00:00, 66.56it/s]\n",
      "  0%|          | 0/35 [00:00<?, ?it/s]"
     ]
    },
    {
     "name": "stdout",
     "output_type": "stream",
     "text": [
      "Current epoch: 18\n",
      "Start training...\n"
     ]
    },
    {
     "name": "stderr",
     "output_type": "stream",
     "text": [
      "100%|██████████| 35/35 [00:00<00:00, 70.95it/s]\n",
      "  0%|          | 0/35 [00:00<?, ?it/s]"
     ]
    },
    {
     "name": "stdout",
     "output_type": "stream",
     "text": [
      "Current epoch: 19\n",
      "Start training...\n"
     ]
    },
    {
     "name": "stderr",
     "output_type": "stream",
     "text": [
      "100%|██████████| 35/35 [00:00<00:00, 65.63it/s]\n"
     ]
    },
    {
     "name": "stdout",
     "output_type": "stream",
     "text": [
      "Cluster accuracy on training: \n",
      " 0.956442831215971\n"
     ]
    }
   ],
   "source": [
    "# ------ pretrain annotator (classification) ------\n",
    "cls_times = 1  # count how many times of running classification\n",
    "cls_training_accuracy = 1  # initialize being 1 so that to run at least once\n",
    "weight_decay_candidates = [50, 20, 10, 5.5, 5, 4.5, 4, 3.5, 3, 2.5, 2, 1, 5e-1, 1e-1, 1e-2, 1e-3, 1e-4, 1e-5]\n",
    "idx_starting_weight_decay = weight_decay_candidates.index(weight_decay)\n",
    "\n",
    "while cls_training_accuracy >= 0.99:\n",
    "\n",
    "    # assign new weight decay (first time running kepted the same)\n",
    "    weight_decay = weight_decay_candidates[idx_starting_weight_decay - cls_times + 1]\n",
    "\n",
    "    print(f\"Run classifier the {cls_times}th time with {weight_decay}\")\n",
    "\n",
    "    prior_cluster = NumpyDataset(input_r_path, input_cluster_path)\n",
    "\n",
    "    model_classifier = classifier(output_dim=M, z_dim=gene_set_dim, emission_dim=128, use_cuda=use_cuda)\n",
    "\n",
    "    trainer = Trainer(dataset=prior_cluster, model=model_classifier, model_name=\"pretrain_annotator\", batch_size=32,\n",
    "                      num_epochs=num_epochs_classifier, save_infer=False, output_folder=pretrain_annotator_folder,\n",
    "                      num_workers=num_workers, use_cuda=use_cuda)\n",
    "\n",
    "    trainer.train(weight_decay=weight_decay)\n",
    "    clusters_classifier = trainer.infer_annotator()\n",
    "    \n",
    "    cls_training_accuracy = (clusters_classifier.numpy() == clusters_pre).sum() / N\n",
    "    print(f\"Cluster accuracy on training: \\n {cls_training_accuracy}\")\n",
    "\n",
    "    cls_times += 1"
   ]
  },
  {
   "cell_type": "markdown",
   "id": "d2e7c49f",
   "metadata": {},
   "source": [
    "# 6. Clustering using AnnoCluster together with annotator\n",
    "<a id=6></a>\n",
    "\n",
    "We train the annotator together with the AnnoCluster (the encoder and decoder (e) \\& decoder(q)). In each epoch, the annotator is trained by using the clustering results as the true label for each cell. The output from the annotator p(r) is in turn used to evaluate the annotator loss for the AnnoCluster. The annotator is optimized using its own loss function, separately from the AnnoCluster model. \n",
    "\n",
    "We will print out the ARI and NMI evaluated based on the final cluster assignment result, if the ground truth is available. \n",
    "\n",
    "The outputs from this step are:\n",
    "\n",
    "    1. Trained AnnoCluster and annotator model (saved in one single file)\n",
    "    2. Cluster assignments (annocluster_clusters_pre_{training epochs - 1}.npy)\n",
    "    3. low-dimensional representations (z_e) of cells (annocluser_{training epochs - 1}.npy)\n",
    "    4. Training stats (i.e. Trainining loss, validation loss, loss for different terms, ARI and NMI based on the final clustering results etc.)"
   ]
  },
  {
   "cell_type": "code",
   "execution_count": 19,
   "id": "399d58cf",
   "metadata": {
    "scrolled": true
   },
   "outputs": [
    {
     "name": "stderr",
     "output_type": "stream",
     "text": [
      "  0%|          | 0/9 [00:00<?, ?it/s]"
     ]
    },
    {
     "name": "stdout",
     "output_type": "stream",
     "text": [
      "Current epoch: 0\n",
      "Start training...\n"
     ]
    },
    {
     "name": "stderr",
     "output_type": "stream",
     "text": [
      "100%|██████████| 9/9 [00:02<00:00,  4.06it/s]\n",
      "100%|██████████| 9/9 [00:01<00:00,  4.84it/s]\n",
      "  0%|          | 0/9 [00:00<?, ?it/s]"
     ]
    },
    {
     "name": "stdout",
     "output_type": "stream",
     "text": [
      "Start evaluating val...\n",
      "Current epoch: 1\n",
      "Start training...\n"
     ]
    },
    {
     "name": "stderr",
     "output_type": "stream",
     "text": [
      "100%|██████████| 9/9 [00:02<00:00,  4.06it/s]\n",
      "  0%|          | 0/9 [00:00<?, ?it/s]"
     ]
    },
    {
     "name": "stdout",
     "output_type": "stream",
     "text": [
      "Current epoch: 2\n",
      "Start training...\n"
     ]
    },
    {
     "name": "stderr",
     "output_type": "stream",
     "text": [
      "100%|██████████| 9/9 [00:02<00:00,  4.15it/s]\n",
      "  0%|          | 0/9 [00:00<?, ?it/s]"
     ]
    },
    {
     "name": "stdout",
     "output_type": "stream",
     "text": [
      "Current epoch: 3\n",
      "Start training...\n"
     ]
    },
    {
     "name": "stderr",
     "output_type": "stream",
     "text": [
      "100%|██████████| 9/9 [00:02<00:00,  4.11it/s]\n",
      "  0%|          | 0/9 [00:00<?, ?it/s]"
     ]
    },
    {
     "name": "stdout",
     "output_type": "stream",
     "text": [
      "Current epoch: 4\n",
      "Start training...\n"
     ]
    },
    {
     "name": "stderr",
     "output_type": "stream",
     "text": [
      "100%|██████████| 9/9 [00:02<00:00,  4.16it/s]\n",
      "  0%|          | 0/9 [00:00<?, ?it/s]"
     ]
    },
    {
     "name": "stdout",
     "output_type": "stream",
     "text": [
      "Current epoch: 5\n",
      "Start training...\n"
     ]
    },
    {
     "name": "stderr",
     "output_type": "stream",
     "text": [
      "100%|██████████| 9/9 [00:02<00:00,  4.12it/s]\n",
      "  0%|          | 0/9 [00:00<?, ?it/s]"
     ]
    },
    {
     "name": "stdout",
     "output_type": "stream",
     "text": [
      "Current epoch: 6\n",
      "Start training...\n"
     ]
    },
    {
     "name": "stderr",
     "output_type": "stream",
     "text": [
      "100%|██████████| 9/9 [00:02<00:00,  4.08it/s]\n",
      "  0%|          | 0/9 [00:00<?, ?it/s]"
     ]
    },
    {
     "name": "stdout",
     "output_type": "stream",
     "text": [
      "Current epoch: 7\n",
      "Start training...\n"
     ]
    },
    {
     "name": "stderr",
     "output_type": "stream",
     "text": [
      "100%|██████████| 9/9 [00:02<00:00,  3.92it/s]\n",
      "  0%|          | 0/9 [00:00<?, ?it/s]"
     ]
    },
    {
     "name": "stdout",
     "output_type": "stream",
     "text": [
      "Current epoch: 8\n",
      "Start training...\n"
     ]
    },
    {
     "name": "stderr",
     "output_type": "stream",
     "text": [
      "100%|██████████| 9/9 [00:02<00:00,  4.16it/s]\n",
      "  0%|          | 0/9 [00:00<?, ?it/s]"
     ]
    },
    {
     "name": "stdout",
     "output_type": "stream",
     "text": [
      "Current epoch: 9\n",
      "Start training...\n"
     ]
    },
    {
     "name": "stderr",
     "output_type": "stream",
     "text": [
      "100%|██████████| 9/9 [00:02<00:00,  4.12it/s]\n",
      "  0%|          | 0/9 [00:00<?, ?it/s]"
     ]
    },
    {
     "name": "stdout",
     "output_type": "stream",
     "text": [
      "Current epoch: 10\n",
      "Start training...\n"
     ]
    },
    {
     "name": "stderr",
     "output_type": "stream",
     "text": [
      "100%|██████████| 9/9 [00:02<00:00,  4.17it/s]\n",
      "100%|██████████| 9/9 [00:01<00:00,  5.00it/s]\n",
      "  0%|          | 0/9 [00:00<?, ?it/s]"
     ]
    },
    {
     "name": "stdout",
     "output_type": "stream",
     "text": [
      "Start evaluating val...\n",
      "Current epoch: 11\n",
      "Start training...\n"
     ]
    },
    {
     "name": "stderr",
     "output_type": "stream",
     "text": [
      "100%|██████████| 9/9 [00:02<00:00,  4.11it/s]\n",
      "  0%|          | 0/9 [00:00<?, ?it/s]"
     ]
    },
    {
     "name": "stdout",
     "output_type": "stream",
     "text": [
      "Current epoch: 12\n",
      "Start training...\n"
     ]
    },
    {
     "name": "stderr",
     "output_type": "stream",
     "text": [
      "100%|██████████| 9/9 [00:02<00:00,  4.09it/s]\n",
      "  0%|          | 0/9 [00:00<?, ?it/s]"
     ]
    },
    {
     "name": "stdout",
     "output_type": "stream",
     "text": [
      "Current epoch: 13\n",
      "Start training...\n"
     ]
    },
    {
     "name": "stderr",
     "output_type": "stream",
     "text": [
      "100%|██████████| 9/9 [00:02<00:00,  4.15it/s]\n",
      "  0%|          | 0/9 [00:00<?, ?it/s]"
     ]
    },
    {
     "name": "stdout",
     "output_type": "stream",
     "text": [
      "Current epoch: 14\n",
      "Start training...\n"
     ]
    },
    {
     "name": "stderr",
     "output_type": "stream",
     "text": [
      "100%|██████████| 9/9 [00:02<00:00,  4.11it/s]\n",
      "  0%|          | 0/9 [00:00<?, ?it/s]"
     ]
    },
    {
     "name": "stdout",
     "output_type": "stream",
     "text": [
      "Current epoch: 15\n",
      "Start training...\n"
     ]
    },
    {
     "name": "stderr",
     "output_type": "stream",
     "text": [
      "100%|██████████| 9/9 [00:02<00:00,  4.17it/s]\n",
      "  0%|          | 0/9 [00:00<?, ?it/s]"
     ]
    },
    {
     "name": "stdout",
     "output_type": "stream",
     "text": [
      "Current epoch: 16\n",
      "Start training...\n"
     ]
    },
    {
     "name": "stderr",
     "output_type": "stream",
     "text": [
      "100%|██████████| 9/9 [00:02<00:00,  4.15it/s]\n",
      "  0%|          | 0/9 [00:00<?, ?it/s]"
     ]
    },
    {
     "name": "stdout",
     "output_type": "stream",
     "text": [
      "Current epoch: 17\n",
      "Start training...\n"
     ]
    },
    {
     "name": "stderr",
     "output_type": "stream",
     "text": [
      "100%|██████████| 9/9 [00:02<00:00,  4.18it/s]\n",
      "  0%|          | 0/9 [00:00<?, ?it/s]"
     ]
    },
    {
     "name": "stdout",
     "output_type": "stream",
     "text": [
      "Current epoch: 18\n",
      "Start training...\n"
     ]
    },
    {
     "name": "stderr",
     "output_type": "stream",
     "text": [
      "100%|██████████| 9/9 [00:02<00:00,  4.13it/s]\n",
      "  0%|          | 0/9 [00:00<?, ?it/s]"
     ]
    },
    {
     "name": "stdout",
     "output_type": "stream",
     "text": [
      "Current epoch: 19\n",
      "Start training...\n"
     ]
    },
    {
     "name": "stderr",
     "output_type": "stream",
     "text": [
      "100%|██████████| 9/9 [00:02<00:00,  4.16it/s]\n",
      "100%|██████████| 9/9 [00:01<00:00,  5.06it/s]"
     ]
    },
    {
     "name": "stdout",
     "output_type": "stream",
     "text": [
      "annocluster: ARI for smaller cluster: 0.9643899702436854\n",
      "annocluster: NMI for smaller cluster: 0.9406709442958107\n"
     ]
    },
    {
     "name": "stderr",
     "output_type": "stream",
     "text": [
      "\n"
     ]
    }
   ],
   "source": [
    "# ------ clustering ------\n",
    "num_epochs = num_epochs_annocluster \n",
    "use_pretrain = True\n",
    "\n",
    "model_annocluster = AnnoCluster(input_dim=G, z_dim=z_dim, gene_set_dim=gene_set_dim, tau=tau, n_clusters=M,\n",
    "                                encoder_dim=z_encoder_dim, emission_dim=z_decoder_dim, \n",
    "                                num_layers_encoder=z_encoder_layers, num_layers_decoder=z_decoder_layers, \n",
    "                                use_t_dist=True, reconstruction_network='gaussian', decoding_network='gaussian', \n",
    "                                centroids=centroids_torch, gene_set_table=gene_set_matrix, use_cuda=use_cuda)\n",
    "\n",
    "if use_pretrain:\n",
    "    pretrained_state_dict = model_autoencoder.state_dict()\n",
    "\n",
    "    # load pretrained AnnoCluster model\n",
    "    state_dict = model_annocluster.state_dict()\n",
    "    for k, v in state_dict.items():\n",
    "        if k in pretrained_state_dict.keys():\n",
    "            state_dict[k] = pretrained_state_dict[k]\n",
    "\n",
    "    model_annocluster.load_state_dict(state_dict)\n",
    "\n",
    "# reload dataset, loading gene set activity scores together\n",
    "expression_prior = AnnDataset(data_filepath, second_filepath=input_r_path, label_name=label_name)\n",
    "\n",
    "trainer = Trainer(dataset=expression_prior, model=model_annocluster, model_2nd=model_classifier,\n",
    "                  model_name=\"annocluster\", batch_size=batch_size, num_epochs=num_epochs_annocluster,\n",
    "                  save_infer=True, output_folder=annocluster_folder, num_workers=num_workers, use_cuda=use_cuda)\n",
    "trainer.train(weight_decay=weight_decay)\n"
   ]
  }
 ],
 "metadata": {
  "kernelspec": {
   "display_name": "Python [conda env:anno] *",
   "language": "python",
   "name": "conda-env-anno-py"
  },
  "language_info": {
   "codemirror_mode": {
    "name": "ipython",
    "version": 3
   },
   "file_extension": ".py",
   "mimetype": "text/x-python",
   "name": "python",
   "nbconvert_exporter": "python",
   "pygments_lexer": "ipython3",
   "version": "3.6.13"
  }
 },
 "nbformat": 4,
 "nbformat_minor": 5
}
